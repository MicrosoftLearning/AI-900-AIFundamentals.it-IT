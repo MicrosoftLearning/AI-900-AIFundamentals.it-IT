{
  "cells": [
    {
      "cell_type": "markdown",
      "source": [
        "# Analizza ricevute con Riconoscimento modulo\r\n",
        "\r\n",
        "![Un robot che tiene in mano una ricevuta](./images/receipt_analysis.jpg)\r\n",
        "\r\n",
        "Nel campo dell'intelligenza artificiale (IA) della visione artificiale, il riconoscimento ottico dei caratteri (OCR) è comunemente usato per leggere documenti stampati o scritti a mano. Spesso, il testo viene semplicemente estratto dai documenti in un formato che può essere utilizzato per ulteriori elaborazioni o analisi.\r\n",
        "\r\n",
        "Uno scenario OCR più avanzato consiste nell'estrazione di informazioni da moduli, come ordini di acquisto o fatture, con una comprensione semantica di quanto rappresentato dai campi del modulo. Il servizio **Riconoscimento modulo** è specificamente progettato per questo tipo di problemi di AI.\r\n",
        "\r\n",
        "## Visualizza una ricevuta\r\n",
        "\r\n",
        "In questo esempio, userai il modello integrato di Riconoscimento modulo per analizzare le ricevute.\r\n",
        "\r\n",
        "Fai clic sul pulsante **Esegui cella** (&#9655;) (a sinistra della cella) seguente per eseguirlo e vedere un esempio di ricevuta da analizzare usando Riconoscimento modulo."
      ],
      "metadata": {}
    },
    {
      "cell_type": "code",
      "source": [
        "import matplotlib.pyplot as plt\n",
        "from PIL import Image\n",
        "import os\n",
        "%matplotlib inline\n",
        "\n",
        "\n",
        "# Load and display a receipt image\r\n",
        "fig = plt.figure(figsize=(6, 6))\n",
        "image_path = os.path.join('data', 'form-receipt', 'receipt.jpg')\n",
        "img = Image.open(image_path)\n",
        "plt.axis('off')\n",
        "plt.imshow(img)"
      ],
      "outputs": [],
      "execution_count": null,
      "metadata": {
        "gather": {
          "logged": 1599694427893
        }
      }
    },
    {
      "cell_type": "markdown",
      "source": [
        "## Crea una risorsa Riconoscimento modulo\r\n",
        "\r\n",
        ">**Nota:** È possibile utilizzare una risorsa di Servizio cognitivo o una risorsa di Riconoscimento modulo per accedere ai servizi di Riconoscimento modulo. \r\n",
        "\r\n",
        "Per creare una risorsa Riconoscimento modulo nella tua sottoscrizione di Azure:\r\n",
        "\r\n",
        "1. In un'altra scheda del browser, apri il portale di Azure all'indirizzo https://portal.azure.com, accedendo con il tuo account Microsoft.\r\n",
        "2. Seleziona **+ Crea una risorsa** e cerca *Riconoscimento modulo*.\r\n",
        "3. Nell'elenco dei servizi, seleziona **Riconoscimento modulo**.\r\n",
        "4. Nel pannello **Riconoscimento modulo**, seleziona **Crea**.\r\n",
        "5. Nel pannello **Crea**, immetti i seguenti dettagli e seleziona **Crea**\r\n",
        "   - **Nome**: Un nome univoco per il tuo servizio\r\n",
        "   - **Sottoscrizione**: La tua sottoscrizione di Azure\r\n",
        "   - **Area geografica**: Una qualsiasi area disponibile\r\n",
        "   - **Piano tariffario**: F0\r\n",
        "   - **Gruppo di risorse**: Il gruppo di risorse esistente che hai usato in precedenza\r\n",
        "   - **Confermo di aver letto e compreso l'avviso seguente**: Selezionato.\r\n",
        "6. Attendi che il servizio venga creato.\r\n",
        "7. Visualizza il servizio Riconoscimento modulo appena creato nel portale di Azure e nella pagina **Chiavi ed endpoint**, copia i valori **Key1** ed **Endpoint** e incollali nella cella di codice sottostante, sostituendo **YOUR_FORM_KEY** e **YOUR_FORM_ENDPOINT**."
      ],
      "metadata": {}
    },
    {
      "cell_type": "code",
      "source": [
        "form_key = 'YOUR_FORM_KEY'\n",
        "form_endpoint = 'YOUR_FORM_ENDPOINT'\n",
        "\n",
        "print('Ready to use form recognizer at {} using key {}'.format(form_endpoint, form_key))"
      ],
      "outputs": [],
      "execution_count": null,
      "metadata": {
        "gather": {
          "logged": 1599694505850
        }
      }
    },
    {
      "cell_type": "markdown",
      "source": [
        "## Analizza una ricevuta\r\n",
        "\r\n",
        "Ora è tutto pronto per usare Riconoscimento modulo per analizzare una ricevuta."
      ],
      "metadata": {}
    },
    {
      "cell_type": "code",
      "source": [
        "import os\n",
        "from azure.ai.formrecognizer import FormRecognizerClient\n",
        "from azure.core.credentials import AzureKeyCredential\n",
        "\n",
        "# Create a client for the form recognizer service\r\n",
        "form_recognizer_client = FormRecognizerClient(endpoint=form_endpoint, credential=AzureKeyCredential(form_key))\n",
        "\n",
        "try:\n",
        "    print(\"Analyzing receipt...\")\n",
        "    # Get the receipt image file\n",
        "    image_path = os.path.join('data', 'form-receipt', 'receipt.jpg')\n",
        "\n",
        "    # Submit the file data to form recognizer\n",
        "    with open(image_path, \"rb\") as f:\n",
        "        analyze_receipt = form_recognizer_client.begin_recognize_receipts(receipt=f)\n",
        "    \n",
        "    # Get the results\n",
        "    receipt_data = analyze_receipt.result()\n",
        "\n",
        "    # Print the extracted data for the first (and only) receipt\n",
        "    receipt = receipt_data[0]\n",
        "    receipt_type = receipt.fields.get(\"ReceiptType\")\n",
        "    if receipt_type:\n",
        "        print(\"Receipt Type: {}\".format(receipt_type.value))\n",
        "    merchant_address = receipt.fields.get(\"MerchantAddress\")\n",
        "    if merchant_address:\n",
        "        print(\"Merchant Address: {}\".format(merchant_address.value))\n",
        "    merchant_phone = receipt.fields.get(\"MerchantPhoneNumber\")\n",
        "    if merchant_phone:\n",
        "        print(\"Merchant Phone: {}\".format(merchant_phone.value))\n",
        "    transaction_date = receipt.fields.get(\"TransactionDate\")\n",
        "    if transaction_date:\n",
        "        print(\"Transaction Date: {}\".format(transaction_date.value))\n",
        "    print(\"Receipt items:\")\n",
        "    items = receipt.fields.get(\"Items\")\n",
        "    if items:\n",
        "        for idx, item in enumerate(receipt.fields.get(\"Items\").value):\n",
        "            print(\"\\tItem #{}\".format(idx+1))\n",
        "            item_name = item.value.get(\"Name\")\n",
        "            if item_name:\n",
        "                print(\"\\t - Name: {}\".format(item_name.value))\n",
        "            item_total_price = item.value.get(\"TotalPrice\")\n",
        "            if item_total_price:\n",
        "                print(\"\\t - Price: {}\".format(item_total_price.value))\n",
        "    subtotal = receipt.fields.get(\"Subtotal\")\n",
        "    if subtotal:\n",
        "        print(\"Subtotal: {} \".format(subtotal.value))\n",
        "    tax = receipt.fields.get(\"Tax\")\n",
        "    if tax:\n",
        "        print(\"Tax: {}\".format(tax.value))\n",
        "    total = receipt.fields.get(\"Total\")\n",
        "    if total:\n",
        "        print(\"Total: {}\".format(total.value))\n",
        "\n",
        "except Exception as ex:\n",
        "    print('Error:', ex)\n"
      ],
      "outputs": [],
      "execution_count": null,
      "metadata": {
        "gather": {
          "logged": 1599694525404
        }
      }
    },
    {
      "cell_type": "markdown",
      "source": [
        "Tieni presente che Riconoscimento modulo è in grado di interpretare i dati nel modulo, identificando correttamente l'indirizzo e il numero di telefono del commerciante, la data e l'ora della transazione, così come le voci, la somma parziale, le tasse e gli importi totali.\r\n",
        "\r\n",
        "## Ulteriori informazioni\r\n",
        "\r\n",
        "Per ulteriori informazioni sul servizio Riconoscimento modulo, consulta la [documentazione di Riconoscimento modulo](https://docs.microsoft.com/it-it/azure/cognitive-services/form-recognizer/index)"
      ],
      "metadata": {}
    }
  ],
  "metadata": {
    "language_info": {
      "name": "python",
      "version": "3.6.9",
      "mimetype": "text/x-python",
      "codemirror_mode": {
        "name": "ipython",
        "version": 3
      },
      "pygments_lexer": "ipython3",
      "nbconvert_exporter": "python",
      "file_extension": ".py"
    },
    "kernelspec": {
      "name": "python3-azureml",
      "language": "python",
      "display_name": "Python 3.6 - AzureML"
    },
    "kernel_info": {
      "name": "python3-azureml"
    },
    "nteract": {
      "version": "nteract-front-end@1.0.0"
    }
  },
  "nbformat": 4,
  "nbformat_minor": 2
}