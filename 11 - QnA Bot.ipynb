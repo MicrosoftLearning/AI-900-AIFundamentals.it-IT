{
  "cells": [
    {
      "cell_type": "markdown",
      "source": [
        "# Intelligenza artificiale conversazionale\r\n",
        "\r\n",
        "Pensa a quanto spesso comunichi con gli altri usando la messaggistica istantanea, i social media, le e-mail o altre tecnologie online. Per molti di noi è la modalità di contatto preferita. Quando sei al lavoro e hai una domanda, potresti chiedere a un collega usando un messaggio di chat, che puoi usare sui dispositivi mobili, così da essere sempre in contatto.\r\n",
        "\r\n",
        "![Un umano e un robot conversano](./images/conversational_ai.jpg)\r\n",
        "\r\n",
        "I bot sono agenti di IA che comunicano utilizzando questi tipi di canali, consentendo un'armonizzazione naturale e conversazionale con i servizi software.\r\n",
        "\r\n",
        "## Creare una knowledge base di QnA Maker\r\n",
        "\r\n",
        "Per gli scenari di assistenza clienti, è comune creare un bot che possa interpretare e rispondere alle domande più frequenti attraverso una finestra di chat del sito Web, e-mail o interfaccia vocale. Alla base dell'interfaccia del bot vi è una knowledge base di domande e risposte appropriate in cui il bot può fare ricerche per ottenere risposte adeguate.\r\n",
        "\r\n",
        "Il servizio QnA Maker è un servizio cognitivo di Azure che consente di creare rapidamente una knowledge base inserendo coppie di domande e risposte oppure da un documento o pagina Web esistente. Può quindi usare capacità di elaborazione della lingua naturale integrate per interpretare le domande e trovare le risposte adeguate.\r\n",
        "\r\n",
        "1. Apri un'altra scheda del browser e accedi al portale di QnA Maker all'indirizzo https://qnamaker.ai. Accedi utilizzando l'account Microsoft associato alla tua sottoscrizione di Azure.\r\n",
        "2. Nel portale di QnA Maker, seleziona **Crea una knowledge base**.\r\n",
        "3. Se non hai già creato una risorsa del servizio di domande e risposte, seleziona **Crea un servizio di domande e risposte**. In un'altra scheda si aprirà il portale di Azure così potrai creare un servizio di QnA Maker nella tua sottoscrizione. Usa le impostazioni seguenti:\r\n",
        "   \r\n",
        "   - **Sottoscrizione**: *la tua sottoscrizione di Azure*\r\n",
        "   - **Gruppo di risorse**: *Seleziona un gruppo di risorse esistenti o creane uno nuovo*\r\n",
        "   - **Nome**: *Un nome univoco per la tua risorsa QnA*\r\n",
        "   - **Piano tariffario**: F0\r\n",
        "   - **Piano tariffario di Ricerca di Azure**: F\r\n",
        "   - **Posizione di Ricerca di Azure**: *Qualsiasi posizione disponibile*\r\n",
        "   - **Nome app**: _Equivale a **Nome** (\".azurewebsites.net\" verrà aggiunto automaticamente)_\r\n",
        "   - **Percorso sito Web**: _Equivale a **Percorso di Ricerca di Azure**_\r\n",
        "   - **Application Insights**: Disabilita\r\n",
        "\r\n",
        "> **Nota**: Se hai già effettuato il provisioning di un **QnA Maker** di livello gratuito o di risorse di **Ricerca di Azure** la tua quota potrebbe non consentirti di crearne un altro. In questo caso, seleziona un livello diverso da **F0** / **F**.\r\n",
        "\r\n",
        "4. Attendi la distribuzione del servizio di domande e risposte e delle risorse correlate per completare l'operazione nel portale di Azure.\r\n",
        "5. Torna alla scheda del portale di QnA Maker e nella sezione **Passaggio 2** fai clic su **Aggiorna** per aggiornare l'elenco delle risorse del servizio di domande e risposte.\r\n",
        "6. Connetti il tuo servizio di domande e risposte alla tua KB selezionando le opzioni seguenti:\r\n",
        "  - **ID directory di Microsoft Azure**: *L'ID directory di Azure per la sottoscrizione*\r\n",
        "  - **Nome della sottoscrizione di Azure**: *la tua sottoscrizione di Azure*\r\n",
        "  - **Servizio di domande e risposte di Azure**: *La risorsa del servizio di domande e risposte che hai creato nel passaggio precedente*\r\n",
        "  - **Lingua**: Inglese\r\n",
        "\r\n",
        "### (!) Verifica\r\n",
        "Se viene visualizzato un messaggio che indica che il ruolo non ha il permesso di eseguire l'azione, aggiorna la pagina del browser per il portale di QnA Maker.\r\n",
        "\r\n",
        "7. Nella sezione **Passaggio 3**, inserisci il nome **KB Viaggio di Margie**.\r\n",
        "8. Nella sezione **Passaggio 4**, nella casella **URL**, digita *https://github.com/MicrosoftLearning/mslearn-ai900/raw/main/data/qna_bot/margies_faq.docx* e fai clic su **+ Aggiungi URL**. Quindi, nella sezione **Chiacchiere**, seleziona **Professionale**.\r\n",
        "9. Nella sezione **Passaggio 5**, fai clic su **Crea la tua KB**.\r\n",
        "10. Attendi qualche minuto mentre la tua knowledge base viene creata. Quindi, controlla le domande e le risposte importate dal documento delle domande frequenti e le risposte predefinite alle chiacchiere professionali.\r\n"
      ],
      "metadata": {}
    },
    {
      "cell_type": "markdown",
      "source": [
        "## Modificare la knowledge base\r\n",
        "\r\n",
        "La tua knowledge base si basa sui dettagli nel documento delle domande frequenti e su alcune risposte predefinite. Puoi aggiungere coppie di domande e risposte personalizzate per integrarla.\r\n",
        "\r\n",
        "1. Fai clic su **+ Aggiungi coppia di domanda e risposta**.\r\n",
        "2. Nella casella **Domanda**, digita `Hello`. Quindi, fai clic su **+ Aggiungi enunciazione alternativa** e digita `Hi`.\r\n",
        "3. Nella casella **Risposta**, digita `Hello`.\r\n",
        "\r\n",
        "## Eseguire il training e testare la knowledge base\r\n",
        "\r\n",
        "Ora che hai una knowledge base, puoi testarla nel portale di QnA Maker.\r\n",
        "\r\n",
        "1. In alto a destra nella pagina, fai clic su **Salva ed esegui il training** per eseguire il training della tua knowledge base. Potresti dover modificare le dimensioni della finestra per vedere il pulsante.\r\n",
        "2. Al termine del training, fai clic su **&larr; Test** per aprire il riquadro di test.\r\n",
        "3. Nel riquadro di test, nella parte inferiore digita il messaggio *Salve*. Dovrebbe comparire la risposta **Ciao**.\r\n",
        "4. Nel riquadro di test, nella parte inferiore digita il messaggio *Voglio prenotare un volo*. Dovrebbe comparire una risposta adeguata dalle domande frequenti.\r\n",
        "5. Dopo aver completato il test della knowledge base, fai clic su **&rarr; Test** per chiudere il riquadro di test.\r\n"
      ],
      "metadata": {}
    },
    {
      "cell_type": "markdown",
      "source": [
        "## Creare un bot per la knowledge base\r\n",
        "\r\n",
        "La knowledge base offre un servizio back-end che le applicazioni client possono usare per rispondere alle domande attraverso un tipo di interfaccia utente. Normalmente queste applicazioni client sono bot. Per rendere una knowledge base disponibile a un bot occorre pubblicarla come un servizio accessibile su HTTP. Quindi puoi usare il servizio Azure Bot per creare e ospitare un bot che usa la knowledge base per rispondere alle domande degli utenti.\r\n",
        "\r\n",
        "1. Nella parte superiore della pagina di QnA Maker, fai clic su **Pubblica**. Quindi, nella pagina **KB Viaggio di Margie**, fai clic su **Pubblica**.\r\n",
        "2. Dopo aver distribuito il servizio, fai clic su **Crea bot**. Il portale di Azure si apre in una nuova scheda del browser, così puoi creare un bot per app Web nella tua sottoscrizione di Azure.\r\n",
        "3. Nel portale di Azure, crea un bot per app Web con le impostazioni seguenti (la maggior parte sono già popolate):\r\n",
        "  - **Handle di bot**: *Un nome univoco per il tuo bot*\r\n",
        "  - **Sottoscrizione**: *la tua sottoscrizione di Azure*\r\n",
        "  - **Gruppo di risorse**: *Il gruppo di risorse contenente la tua risorsa QnA Maker*\r\n",
        "  - **Posizione**: *La stessa posizione del tuo servizio QnA Maker*.\r\n",
        "  - **Piano tariffario**: F0\r\n",
        "  - **Nome app**: *Lo stesso dell'**Handle di bot** con *.azurewebsites.net* aggiunto automaticamente\r\n",
        "  - **Linguaggio SDK**: *Scegli tra C# o Node.js*\r\n",
        "  - **Chiave di autenticazione QnA**: *Questo deve essere impostato automaticamente sulla chiave di autenticazione per la knowledge base QnA*\r\n",
        "  - **Piano di servizio app/Località**: *Questo deve essere impostato automaticamente su un piano e una località idonei*\r\n",
        "  - **Application Insights**: Disattivato\r\n",
        "  - **Password e ID app di Microsoft**: Crea automaticamente ID app e password.\r\n",
        "4. Attendi che il tuo bot venga creato (l'icona di notifica a forma di campana in alto a destra si muove durante l'attesa). Quindi, nella notifica di completamento della distribuzione, fai clic su **Vai alla risorsa** (oppure in alternativa, sulla home page, fai clic su **Gruppi di risorse**, apri il gruppo di risorse in cui hai creato il bot per app Web e selezionalo.)\r\n",
        "5. Nel riquadro sinistro del tuo bot cerca **Impostazioni**, fai clic su **Test in chat** e attendi che il bot visualizzi il messaggio **Ciao e benvenuto!** (l'inizializzazione potrebbe richiedere alcuni minuti).\r\n",
        "6. Usa l'interfaccia della chat di test per assicurarti che il bot risponda alle domande dalla tua knowledge base come previsto. Ad esempio, prova a digitare *Devo cancellare il mio hotel*.\r\n"
      ],
      "metadata": {}
    },
    {
      "cell_type": "markdown",
      "source": [
        "## Accedere al bot attraverso un canale\r\n",
        "\r\n",
        "Puoi usare un bot per offrire un'interfaccia agli utenti attraverso uno o più *canali*. Ad esempio, lo stesso bot può supportare le interazioni attraverso un'interfaccia di chat Web, e-mail e Microsoft Teams.\r\n",
        "\r\n",
        "1. Nel riquadro sinistro del tuo bot cerca **Impostazioni** e fai clic su **Canali**.\r\n",
        "2. Come puoi vedere, il canale **Chat Web** è stato aggiunto automaticamente e sono disponibili altri canali per le comuni piattaforme di comunicazione.\r\n",
        "3. Accanto al canale **Chat Web** fai clic su **Modifica**. Si apre una pagina con le impostazioni necessarie per incorporare il tuo bot in una pagina Web. Per incorporare il tuo bot, hai bisogno del codice di incorporamento HTML fornito e di una delle chiavi private generate per il tuo bot.\r\n",
        "4. Copia il **Codice di incorporamento** e incollalo nella cella seguente, sostituendo il commento `<!-- EMBED CODE GOES HERE -->`.\r\n",
        "5. Fai clic su **Mostra** per una delle tue chiavi private (non importa quale) e copiala. Quindi incollala nel codice di incorporamento HTML seguente, sostituendo `YOUR_SECRET_HERE`.\r\n",
        "6. Modifica il valore **min-height** nel tuo codice HTML con **200px** (invece del valore predefinito 500px). Questo farà in modo che l'interfaccia HTML sia visibile senza scorrere.\r\n",
        "7. Esegui la cella seguente facendo clic sul pulsante **Esegui cella** (&#9655;) a sinistra della cella per eseguire il rendering dell'HTML.\r\n",
        "8. Nell'interfaccia di chat HTML, testa il bot digitando una domanda come *Chi è Margie?* oppure *Dove posso andare?* (all'avvio, il bot può rispondere con il messaggio *Ciao e benvenuto* oltre a rispondere alla domanda.)."
      ],
      "metadata": {}
    },
    {
      "cell_type": "code",
      "execution_count": null,
      "source": [
        "%%html\r\n",
        "\r\n",
        "<!-- EMBED CODE GOES HERE -->"
      ],
      "outputs": [],
      "metadata": {}
    },
    {
      "cell_type": "markdown",
      "source": [
        "Esperimento con il bot. Probabilmente scoprirai che può rispondere alle domande frequenti in modo abbastanza preciso, ma ha una capacità limitata nell'interpretare le domande con cui non è stato addestrato. Puoi sempre usare il portale di QnA Maker per modificare la knowledge base, migliorarla e pubblicarla di nuovo.\r\n",
        "\r\n",
        "## Scopri di più\r\n",
        "\r\n",
        "- Per ulteriori informazioni sul servizio QnA Maker, consulta [la documentazione su QnA Maker](https://docs.microsoft.com/azure/cognitive-services/qnamaker/).\r\n",
        "- Per ulteriori informazioni sul servizio Microsoft Bot, consulta [la pagina Servizio Azure Bot](https://azure.microsoft.com/services/bot-service/)."
      ],
      "metadata": {}
    }
  ],
  "metadata": {
    "language_info": {
      "name": "python",
      "version": "3.6.9",
      "mimetype": "text/x-python",
      "codemirror_mode": {
        "name": "ipython",
        "version": 3
      },
      "pygments_lexer": "ipython3",
      "nbconvert_exporter": "python",
      "file_extension": ".py"
    },
    "kernelspec": {
      "name": "python3-azureml",
      "language": "python",
      "display_name": "Python 3.6 - AzureML"
    },
    "kernel_info": {
      "name": "python3-azureml"
    },
    "nteract": {
      "version": "nteract-front-end@1.0.0"
    }
  },
  "nbformat": 4,
  "nbformat_minor": 2
}